{
  "nbformat": 4,
  "nbformat_minor": 0,
  "metadata": {
    "colab": {
      "name": "Yahoo Finance Indian Stock Data Collector BEST.ipynb",
      "provenance": [],
      "collapsed_sections": [
        "bqUjUQoSLcIh",
        "lKs6NrAdMzLk",
        "4Km8bO5IV_lS",
        "vkXSXOJElt0X"
      ]
    },
    "kernelspec": {
      "name": "python3",
      "display_name": "Python 3"
    }
  },
  "cells": [
    {
      "cell_type": "code",
      "metadata": {
        "id": "yHMuQmWeD9t3",
        "colab_type": "code",
        "outputId": "b310f107-599f-46c1-a0da-5ac7ff860db2",
        "colab": {
          "base_uri": "https://localhost:8080/",
          "height": 119
        }
      },
      "source": [
        "! rm -rf StockData\n",
        "! git clone https://github.com/shivampip/StockData.git"
      ],
      "execution_count": 0,
      "outputs": [
        {
          "output_type": "stream",
          "text": [
            "Cloning into 'StockData'...\n",
            "remote: Enumerating objects: 19, done.\u001b[K\n",
            "remote: Counting objects: 100% (19/19), done.\u001b[K\n",
            "remote: Compressing objects: 100% (14/14), done.\u001b[K\n",
            "remote: Total 19 (delta 3), reused 15 (delta 2), pack-reused 0\u001b[K\n",
            "Unpacking objects: 100% (19/19), done.\n"
          ],
          "name": "stdout"
        }
      ]
    },
    {
      "cell_type": "code",
      "metadata": {
        "id": "-Re-1wb9F8Ei",
        "colab_type": "code",
        "colab": {}
      },
      "source": [
        "! pip install yfinance --upgrade --no-cache-dir"
      ],
      "execution_count": 0,
      "outputs": []
    },
    {
      "cell_type": "code",
      "metadata": {
        "id": "05ZKLNtvEHTq",
        "colab_type": "code",
        "outputId": "82fc177f-9476-45f0-8e94-21d4e4a8dd57",
        "colab": {
          "base_uri": "https://localhost:8080/",
          "height": 136
        }
      },
      "source": [
        "! ls StockData/yahoo/util"
      ],
      "execution_count": 0,
      "outputs": [
        {
          "output_type": "stream",
          "text": [
            " EQUITY_L.csv\n",
            " NSE-Stock-LIST-1411-Stocks-Generated-on-25may2017.xlsx\n",
            " symbolchange.csv\n",
            "'Yahoo Finance Stock Codes till_2012_BSE.csv'\n",
            "'Yahoo Finance Stock Codes till_2012_NSE.csv'\n",
            "'Yahoo Finance Stock Codes till_2012.xlsx'\n",
            " yahoo_nse_ticker_list.csv\n"
          ],
          "name": "stdout"
        }
      ]
    },
    {
      "cell_type": "code",
      "metadata": {
        "id": "Um2N5yKBEcvV",
        "colab_type": "code",
        "colab": {}
      },
      "source": [
        "# data.to_csv(\"drive/My Drive/Stock Data/BSE/{}_{}_{}.csv\".format(code, name, description)) "
      ],
      "execution_count": 0,
      "outputs": []
    },
    {
      "cell_type": "code",
      "metadata": {
        "id": "welHrmyvEu5P",
        "colab_type": "code",
        "colab": {}
      },
      "source": [
        "import pandas as pd\n",
        "import yfinance as yf"
      ],
      "execution_count": 0,
      "outputs": []
    },
    {
      "cell_type": "markdown",
      "metadata": {
        "id": "4Km8bO5IV_lS",
        "colab_type": "text"
      },
      "source": [
        "### List from NSE official (**BEST**)"
      ]
    },
    {
      "cell_type": "code",
      "metadata": {
        "id": "oQNnCG_fSbop",
        "colab_type": "code",
        "outputId": "76513df6-f093-4b97-8ebd-7946936a0cd0",
        "colab": {
          "base_uri": "https://localhost:8080/",
          "height": 34
        }
      },
      "source": [
        "nse= pd.read_csv(\"StockData/yahoo/util/EQUITY_L.csv\")\n",
        "nse.shape"
      ],
      "execution_count": 0,
      "outputs": [
        {
          "output_type": "execute_result",
          "data": {
            "text/plain": [
              "(1628, 8)"
            ]
          },
          "metadata": {
            "tags": []
          },
          "execution_count": 130
        }
      ]
    },
    {
      "cell_type": "code",
      "metadata": {
        "id": "ScwjmUB8fC9f",
        "colab_type": "code",
        "outputId": "fa4e9414-56e5-4828-b5c6-75adc8b0c475",
        "colab": {
          "base_uri": "https://localhost:8080/",
          "height": 204
        }
      },
      "source": [
        "nse.head()"
      ],
      "execution_count": 0,
      "outputs": [
        {
          "output_type": "execute_result",
          "data": {
            "text/html": [
              "<div>\n",
              "<style scoped>\n",
              "    .dataframe tbody tr th:only-of-type {\n",
              "        vertical-align: middle;\n",
              "    }\n",
              "\n",
              "    .dataframe tbody tr th {\n",
              "        vertical-align: top;\n",
              "    }\n",
              "\n",
              "    .dataframe thead th {\n",
              "        text-align: right;\n",
              "    }\n",
              "</style>\n",
              "<table border=\"1\" class=\"dataframe\">\n",
              "  <thead>\n",
              "    <tr style=\"text-align: right;\">\n",
              "      <th></th>\n",
              "      <th>SYMBOL</th>\n",
              "      <th>NAME OF COMPANY</th>\n",
              "      <th>SERIES</th>\n",
              "      <th>DATE OF LISTING</th>\n",
              "      <th>PAID UP VALUE</th>\n",
              "      <th>MARKET LOT</th>\n",
              "      <th>ISIN NUMBER</th>\n",
              "      <th>FACE VALUE</th>\n",
              "    </tr>\n",
              "  </thead>\n",
              "  <tbody>\n",
              "    <tr>\n",
              "      <th>0</th>\n",
              "      <td>20MICRONS</td>\n",
              "      <td>20 Microns Limited</td>\n",
              "      <td>EQ</td>\n",
              "      <td>06-OCT-2008</td>\n",
              "      <td>5</td>\n",
              "      <td>1</td>\n",
              "      <td>INE144J01027</td>\n",
              "      <td>5</td>\n",
              "    </tr>\n",
              "    <tr>\n",
              "      <th>1</th>\n",
              "      <td>21STCENMGM</td>\n",
              "      <td>21st Century Management Services Limited</td>\n",
              "      <td>EQ</td>\n",
              "      <td>03-MAY-1995</td>\n",
              "      <td>10</td>\n",
              "      <td>1</td>\n",
              "      <td>INE253B01015</td>\n",
              "      <td>10</td>\n",
              "    </tr>\n",
              "    <tr>\n",
              "      <th>2</th>\n",
              "      <td>3IINFOTECH</td>\n",
              "      <td>3i Infotech Limited</td>\n",
              "      <td>EQ</td>\n",
              "      <td>22-APR-2005</td>\n",
              "      <td>10</td>\n",
              "      <td>1</td>\n",
              "      <td>INE748C01020</td>\n",
              "      <td>10</td>\n",
              "    </tr>\n",
              "    <tr>\n",
              "      <th>3</th>\n",
              "      <td>3MINDIA</td>\n",
              "      <td>3M India Limited</td>\n",
              "      <td>EQ</td>\n",
              "      <td>13-AUG-2004</td>\n",
              "      <td>10</td>\n",
              "      <td>1</td>\n",
              "      <td>INE470A01017</td>\n",
              "      <td>10</td>\n",
              "    </tr>\n",
              "    <tr>\n",
              "      <th>4</th>\n",
              "      <td>3PLAND</td>\n",
              "      <td>3P Land Holdings Limited</td>\n",
              "      <td>EQ</td>\n",
              "      <td>19-JUL-1995</td>\n",
              "      <td>2</td>\n",
              "      <td>1</td>\n",
              "      <td>INE105C01023</td>\n",
              "      <td>2</td>\n",
              "    </tr>\n",
              "  </tbody>\n",
              "</table>\n",
              "</div>"
            ],
            "text/plain": [
              "       SYMBOL  ...  FACE VALUE\n",
              "0   20MICRONS  ...           5\n",
              "1  21STCENMGM  ...          10\n",
              "2  3IINFOTECH  ...          10\n",
              "3     3MINDIA  ...          10\n",
              "4      3PLAND  ...           2\n",
              "\n",
              "[5 rows x 8 columns]"
            ]
          },
          "metadata": {
            "tags": []
          },
          "execution_count": 131
        }
      ]
    },
    {
      "cell_type": "code",
      "metadata": {
        "id": "gpD1FH8ZgALs",
        "colab_type": "code",
        "outputId": "841061a4-24dd-4279-dc96-0357424a443a",
        "colab": {
          "base_uri": "https://localhost:8080/",
          "height": 68
        }
      },
      "source": [
        "nse.columns"
      ],
      "execution_count": 0,
      "outputs": [
        {
          "output_type": "execute_result",
          "data": {
            "text/plain": [
              "Index(['SYMBOL', 'NAME OF COMPANY', ' SERIES', ' DATE OF LISTING',\n",
              "       ' PAID UP VALUE', ' MARKET LOT', ' ISIN NUMBER', ' FACE VALUE'],\n",
              "      dtype='object')"
            ]
          },
          "metadata": {
            "tags": []
          },
          "execution_count": 96
        }
      ]
    },
    {
      "cell_type": "code",
      "metadata": {
        "id": "sqJjDte8gClr",
        "colab_type": "code",
        "outputId": "5ed9b231-904a-4f60-fa49-406fbf9fe356",
        "colab": {
          "base_uri": "https://localhost:8080/",
          "height": 34
        }
      },
      "source": [
        "nse[' SERIES'].unique()"
      ],
      "execution_count": 0,
      "outputs": [
        {
          "output_type": "execute_result",
          "data": {
            "text/plain": [
              "array(['EQ', 'BE', 'BZ'], dtype=object)"
            ]
          },
          "metadata": {
            "tags": []
          },
          "execution_count": 97
        }
      ]
    },
    {
      "cell_type": "code",
      "metadata": {
        "id": "Zv8FFxuXfduc",
        "colab_type": "code",
        "outputId": "b53f9aa4-2da6-4702-e834-093fb95d2925",
        "colab": {
          "base_uri": "https://localhost:8080/",
          "height": 204
        }
      },
      "source": [
        "nse[nse[' SERIES']=='BZ'].head()"
      ],
      "execution_count": 0,
      "outputs": [
        {
          "output_type": "execute_result",
          "data": {
            "text/html": [
              "<div>\n",
              "<style scoped>\n",
              "    .dataframe tbody tr th:only-of-type {\n",
              "        vertical-align: middle;\n",
              "    }\n",
              "\n",
              "    .dataframe tbody tr th {\n",
              "        vertical-align: top;\n",
              "    }\n",
              "\n",
              "    .dataframe thead th {\n",
              "        text-align: right;\n",
              "    }\n",
              "</style>\n",
              "<table border=\"1\" class=\"dataframe\">\n",
              "  <thead>\n",
              "    <tr style=\"text-align: right;\">\n",
              "      <th></th>\n",
              "      <th>SYMBOL</th>\n",
              "      <th>NAME OF COMPANY</th>\n",
              "      <th>SERIES</th>\n",
              "      <th>DATE OF LISTING</th>\n",
              "      <th>PAID UP VALUE</th>\n",
              "      <th>MARKET LOT</th>\n",
              "      <th>ISIN NUMBER</th>\n",
              "      <th>FACE VALUE</th>\n",
              "    </tr>\n",
              "  </thead>\n",
              "  <tbody>\n",
              "    <tr>\n",
              "      <th>176</th>\n",
              "      <td>BARTRONICS</td>\n",
              "      <td>Bartronics India Limited</td>\n",
              "      <td>BZ</td>\n",
              "      <td>12-JAN-2006</td>\n",
              "      <td>10</td>\n",
              "      <td>1</td>\n",
              "      <td>INE855F01034</td>\n",
              "      <td>10</td>\n",
              "    </tr>\n",
              "    <tr>\n",
              "      <th>246</th>\n",
              "      <td>CANDC</td>\n",
              "      <td>C &amp; C Constructions Limited</td>\n",
              "      <td>BZ</td>\n",
              "      <td>26-FEB-2007</td>\n",
              "      <td>10</td>\n",
              "      <td>1</td>\n",
              "      <td>INE874H01015</td>\n",
              "      <td>10</td>\n",
              "    </tr>\n",
              "    <tr>\n",
              "      <th>290</th>\n",
              "      <td>CKFSL</td>\n",
              "      <td>Cox &amp; Kings Financial Service Limited</td>\n",
              "      <td>BZ</td>\n",
              "      <td>11-APR-2019</td>\n",
              "      <td>10</td>\n",
              "      <td>1</td>\n",
              "      <td>INE391Z01012</td>\n",
              "      <td>10</td>\n",
              "    </tr>\n",
              "    <tr>\n",
              "      <th>309</th>\n",
              "      <td>COX&amp;KINGS</td>\n",
              "      <td>Cox &amp; Kings Limited</td>\n",
              "      <td>BZ</td>\n",
              "      <td>11-DEC-2009</td>\n",
              "      <td>5</td>\n",
              "      <td>1</td>\n",
              "      <td>INE008I01026</td>\n",
              "      <td>5</td>\n",
              "    </tr>\n",
              "    <tr>\n",
              "      <th>357</th>\n",
              "      <td>DIAPOWER</td>\n",
              "      <td>Diamond Power Infra Ltd</td>\n",
              "      <td>BZ</td>\n",
              "      <td>29-SEP-2010</td>\n",
              "      <td>10</td>\n",
              "      <td>1</td>\n",
              "      <td>INE989C01012</td>\n",
              "      <td>10</td>\n",
              "    </tr>\n",
              "  </tbody>\n",
              "</table>\n",
              "</div>"
            ],
            "text/plain": [
              "         SYMBOL  ...  FACE VALUE\n",
              "176  BARTRONICS  ...          10\n",
              "246       CANDC  ...          10\n",
              "290       CKFSL  ...          10\n",
              "309   COX&KINGS  ...           5\n",
              "357    DIAPOWER  ...          10\n",
              "\n",
              "[5 rows x 8 columns]"
            ]
          },
          "metadata": {
            "tags": []
          },
          "execution_count": 98
        }
      ]
    },
    {
      "cell_type": "code",
      "metadata": {
        "id": "k7S9_JsQhSD7",
        "colab_type": "code",
        "outputId": "e42d9beb-1392-4d6f-fdd3-8a018dead18b",
        "colab": {
          "base_uri": "https://localhost:8080/",
          "height": 51
        }
      },
      "source": [
        "data= get_data(\"CANDC.NS\", name)\n",
        "data.shape"
      ],
      "execution_count": 0,
      "outputs": [
        {
          "output_type": "stream",
          "text": [
            "\r[*********************100%***********************]  1 of 1 completed\n"
          ],
          "name": "stdout"
        },
        {
          "output_type": "execute_result",
          "data": {
            "text/plain": [
              "(3226, 5)"
            ]
          },
          "metadata": {
            "tags": []
          },
          "execution_count": 99
        }
      ]
    },
    {
      "cell_type": "code",
      "metadata": {
        "id": "lbLrQGgSfETs",
        "colab_type": "code",
        "colab": {}
      },
      "source": [
        "errs= []\n",
        "count= 0\n",
        "for symbol, name, series in zip(nse['SYMBOL'], nse['NAME OF COMPANY'], nse[' SERIES']):\n",
        "    count+= 1\n",
        "    code= symbol+\".NS\"\n",
        "    print(\"Remaining : {}, Symbol: {}\".format(1628- count, code))\n",
        "    data= get_data(code, name)\n",
        "    if(data is not None):\n",
        "        data.to_csv(\"drive/My Drive/Stock Data/Yahoo/NSE/NSE_Official_List/Adjusted/{}_{}__{}.csv\".format(series, symbol, name))\n",
        "\n",
        "    data= get_data(code, name, adjusted= False)\n",
        "    if(data is not None):\n",
        "        data.to_csv(\"drive/My Drive/Stock Data/Yahoo/NSE/NSE_Official_List/Standard/{}_{}__{}.csv\".format(series, symbol, name))\n",
        "    else:\n",
        "        errs.append(code)"
      ],
      "execution_count": 0,
      "outputs": []
    },
    {
      "cell_type": "markdown",
      "metadata": {
        "id": "vkXSXOJElt0X",
        "colab_type": "text"
      },
      "source": [
        "### NSE Official Full Data"
      ]
    },
    {
      "cell_type": "code",
      "metadata": {
        "id": "BPQPVpSxxkKX",
        "colab_type": "code",
        "colab": {}
      },
      "source": [
        "from datetime import datetime, timedelta"
      ],
      "execution_count": 0,
      "outputs": []
    },
    {
      "cell_type": "code",
      "metadata": {
        "id": "CJLGngdLltFV",
        "colab_type": "code",
        "outputId": "54e53d89-2c42-41ae-a35e-b901069217ce",
        "colab": {
          "base_uri": "https://localhost:8080/",
          "height": 111
        }
      },
      "source": [
        "nse.head(2)"
      ],
      "execution_count": 0,
      "outputs": [
        {
          "output_type": "execute_result",
          "data": {
            "text/html": [
              "<div>\n",
              "<style scoped>\n",
              "    .dataframe tbody tr th:only-of-type {\n",
              "        vertical-align: middle;\n",
              "    }\n",
              "\n",
              "    .dataframe tbody tr th {\n",
              "        vertical-align: top;\n",
              "    }\n",
              "\n",
              "    .dataframe thead th {\n",
              "        text-align: right;\n",
              "    }\n",
              "</style>\n",
              "<table border=\"1\" class=\"dataframe\">\n",
              "  <thead>\n",
              "    <tr style=\"text-align: right;\">\n",
              "      <th></th>\n",
              "      <th>SYMBOL</th>\n",
              "      <th>NAME OF COMPANY</th>\n",
              "      <th>SERIES</th>\n",
              "      <th>DATE OF LISTING</th>\n",
              "      <th>PAID UP VALUE</th>\n",
              "      <th>MARKET LOT</th>\n",
              "      <th>ISIN NUMBER</th>\n",
              "      <th>FACE VALUE</th>\n",
              "    </tr>\n",
              "  </thead>\n",
              "  <tbody>\n",
              "    <tr>\n",
              "      <th>0</th>\n",
              "      <td>20MICRONS</td>\n",
              "      <td>20 Microns Limited</td>\n",
              "      <td>EQ</td>\n",
              "      <td>06-OCT-2008</td>\n",
              "      <td>5</td>\n",
              "      <td>1</td>\n",
              "      <td>INE144J01027</td>\n",
              "      <td>5</td>\n",
              "    </tr>\n",
              "    <tr>\n",
              "      <th>1</th>\n",
              "      <td>21STCENMGM</td>\n",
              "      <td>21st Century Management Services Limited</td>\n",
              "      <td>EQ</td>\n",
              "      <td>03-MAY-1995</td>\n",
              "      <td>10</td>\n",
              "      <td>1</td>\n",
              "      <td>INE253B01015</td>\n",
              "      <td>10</td>\n",
              "    </tr>\n",
              "  </tbody>\n",
              "</table>\n",
              "</div>"
            ],
            "text/plain": [
              "       SYMBOL  ...  FACE VALUE\n",
              "0   20MICRONS  ...           5\n",
              "1  21STCENMGM  ...          10\n",
              "\n",
              "[2 rows x 8 columns]"
            ]
          },
          "metadata": {
            "tags": []
          },
          "execution_count": 132
        }
      ]
    },
    {
      "cell_type": "code",
      "metadata": {
        "id": "8Vmt_NRflyW1",
        "colab_type": "code",
        "outputId": "d4d6161a-baae-469b-ff05-9429b2a528f8",
        "colab": {
          "base_uri": "https://localhost:8080/",
          "height": 85
        }
      },
      "source": [
        "print(nse.shape)\n",
        "print(nse.columns)"
      ],
      "execution_count": 0,
      "outputs": [
        {
          "output_type": "stream",
          "text": [
            "(1628, 8)\n",
            "Index(['SYMBOL', 'NAME OF COMPANY', ' SERIES', ' DATE OF LISTING',\n",
            "       ' PAID UP VALUE', ' MARKET LOT', ' ISIN NUMBER', ' FACE VALUE'],\n",
            "      dtype='object')\n"
          ],
          "name": "stdout"
        }
      ]
    },
    {
      "cell_type": "code",
      "metadata": {
        "id": "c82DaigAmBDJ",
        "colab_type": "code",
        "colab": {}
      },
      "source": [
        "def just_do_it(symbol, adjusted= True):\n",
        "    code= symbol+\".NS\"\n",
        "    try:\n",
        "        data1h= yf.download(\n",
        "            tickers= code,\n",
        "            period= \"2y\",\n",
        "            interval= \"1h\",\n",
        "            auto_adjust= adjusted\n",
        "        )\n",
        "        return data1h\n",
        "    except Exception as e:\n",
        "        return None"
      ],
      "execution_count": 0,
      "outputs": []
    },
    {
      "cell_type": "code",
      "metadata": {
        "id": "yJw6pmZY4CvL",
        "colab_type": "code",
        "outputId": "411389c5-ae47-476b-b587-938819806bfd",
        "colab": {
          "base_uri": "https://localhost:8080/",
          "height": 159
        }
      },
      "source": [
        "data= just_do_it(\"20MICRONS\", False)\n",
        "data.head(2)"
      ],
      "execution_count": 0,
      "outputs": [
        {
          "output_type": "stream",
          "text": [
            "\r[*********************100%***********************]  1 of 1 completed\n"
          ],
          "name": "stdout"
        },
        {
          "output_type": "execute_result",
          "data": {
            "text/html": [
              "<div>\n",
              "<style scoped>\n",
              "    .dataframe tbody tr th:only-of-type {\n",
              "        vertical-align: middle;\n",
              "    }\n",
              "\n",
              "    .dataframe tbody tr th {\n",
              "        vertical-align: top;\n",
              "    }\n",
              "\n",
              "    .dataframe thead th {\n",
              "        text-align: right;\n",
              "    }\n",
              "</style>\n",
              "<table border=\"1\" class=\"dataframe\">\n",
              "  <thead>\n",
              "    <tr style=\"text-align: right;\">\n",
              "      <th></th>\n",
              "      <th>Open</th>\n",
              "      <th>High</th>\n",
              "      <th>Low</th>\n",
              "      <th>Close</th>\n",
              "      <th>Adj Close</th>\n",
              "      <th>Volume</th>\n",
              "    </tr>\n",
              "    <tr>\n",
              "      <th>Date</th>\n",
              "      <th></th>\n",
              "      <th></th>\n",
              "      <th></th>\n",
              "      <th></th>\n",
              "      <th></th>\n",
              "      <th></th>\n",
              "    </tr>\n",
              "  </thead>\n",
              "  <tbody>\n",
              "    <tr>\n",
              "      <th>2018-04-16</th>\n",
              "      <td>53.000000</td>\n",
              "      <td>54.150002</td>\n",
              "      <td>53.000000</td>\n",
              "      <td>53.450001</td>\n",
              "      <td>53.450001</td>\n",
              "      <td>66494</td>\n",
              "    </tr>\n",
              "    <tr>\n",
              "      <th>2018-04-16</th>\n",
              "      <td>53.200001</td>\n",
              "      <td>54.700001</td>\n",
              "      <td>53.150002</td>\n",
              "      <td>53.750000</td>\n",
              "      <td>53.750000</td>\n",
              "      <td>75140</td>\n",
              "    </tr>\n",
              "  </tbody>\n",
              "</table>\n",
              "</div>"
            ],
            "text/plain": [
              "                 Open       High        Low      Close  Adj Close  Volume\n",
              "Date                                                                     \n",
              "2018-04-16  53.000000  54.150002  53.000000  53.450001  53.450001   66494\n",
              "2018-04-16  53.200001  54.700001  53.150002  53.750000  53.750000   75140"
            ]
          },
          "metadata": {
            "tags": []
          },
          "execution_count": 181
        }
      ]
    },
    {
      "cell_type": "code",
      "metadata": {
        "id": "_qN1Je4N4slC",
        "colab_type": "code",
        "colab": {}
      },
      "source": [
        "for i in range(nse.shape[0]):\n",
        "    row= nse.iloc[i,:]\n",
        "\n",
        "    symbol= row['SYMBOL']\n",
        "    name= row['NAME OF COMPANY']\n",
        "    series= row[' SERIES']\n",
        "    print(\"Count: {}, Symbol: {}\".format(i, symbol))\n",
        "\n",
        "    data= just_do_it(symbol, adjusted= True)\n",
        "    if(data is not None):\n",
        "        data.to_csv(\"drive/My Drive/Stock Data/Yahoo/NSE/NSE_Official_1Hour_2Year/Adjusted/{}_{}__{}.csv\".format(series, symbol, name))\n",
        "\n",
        "    data= just_do_it(symbol, adjusted= False)\n",
        "    if(data is not None):\n",
        "        data.to_csv(\"drive/My Drive/Stock Data/Yahoo/NSE/NSE_Official_1Hour_2Year/Standard/{}_{}__{}.csv\".format(series, symbol, name))"
      ],
      "execution_count": 0,
      "outputs": []
    },
    {
      "cell_type": "markdown",
      "metadata": {
        "id": "Dfq1ItAv_GHw",
        "colab_type": "text"
      },
      "source": [
        "### Well Done Shivam"
      ]
    }
  ]
}